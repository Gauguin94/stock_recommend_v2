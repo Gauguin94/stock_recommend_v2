{
 "cells": [
  {
   "cell_type": "code",
   "execution_count": 1,
   "metadata": {},
   "outputs": [
    {
     "name": "stdout",
     "output_type": "stream",
     "text": [
      "좋은 질문입니다. AAPL(AAPL)에 대한 당신의 고민은 현재 많은 투자자들의 공통된 관심사입니다. 여러 측면에서 분석해보면, AAPL은 단기적으로는 불확실성이 크지만, 장기적으로는 여전히 **매력적인 투자 대상**으로 평가할 수 있습니다. 아래에 그 이유를 정리해보겠습니다.\n",
      "\n",
      "---\n",
      "\n",
      "### ✅ **장기적 관점에서 AAPL의 강점**\n",
      "1. **기초 체력이 매우 탄탄함**\n",
      "   - AAPL은 세계 최고 수준의 브랜드 파워, 높은 고객 충성도, 그리고 뛰어난 생태계(하드웨어+소프트웨어+서비스)를 보유하고 있습니다.\n",
      "   - 이 생태계는 사용자의 이탈을 어렵게 만들며, 지속적인 수익 창출 구조를 제공합니다.\n",
      "   - 워렌 버핏가 Berkshire Hathaway에 AAPL을 대량 보유하고 있는 것도 이에 대한 신뢰의 표현입니다.\n",
      "\n",
      "2. **서비스 부문 성장세 지속**\n",
      "   - AAPL의 수익 구조는 점차 하드웨어 중심에서 서비스 중심으로 전환 중입니다.\n",
      "   - 서비스 부문(앱스토어, iCloud, Apple Music 등)은 높은 마진과 반복 수익 구조를 가지고 있어, 경기 침체기에도 상대적으로 안정적인 수익을 기대할 수 있습니다.\n",
      "\n",
      "3. **혁신 지속**\n",
      "   - Vision Pro, Apple Silicon(M1/M2/M3 칩), AI 기반 기능 강화 등 지속적인 기술 혁신을 통해 경쟁력을 유지하고 있습니다.\n",
      "\n",
      "---\n",
      "\n",
      "### ⚠️ **단기적 리스크 요인**\n",
      "1. **불확실한 거시경제 상황**\n",
      "   - 글로벌 인플레이션, 금리 인상, 중국 경기 둔화 등으로 소비 심리가 위축될 수 있으며, 이는 고가의 스마트폰 수요에 직접적인 압박이 될 수 있습니다.\n",
      "   - 특히 AAPL은 고가 제품군을 중심으로 운영되므로, 경기 민감도가 높은 측면이 있습니다.\n",
      "\n",
      "2. **트럼프 정권의 재등장 가능성**\n",
      "   - 트럼프 정권은 과거 중국과의 무역 전쟁을 격화시켰고, 이는 AAPL의 공급망과 세금 부과에 악영향을 미쳤습니다.\n",
      "   - 만약 재집권된다면, 다시금 무역 전쟁 재개, 기술 규제 강화 등의 리스크가 존재할 수 있습니다.\n",
      "\n",
      "3. **경쟁 심화**\n",
      "   - 삼성, 구글, 샤오미 등 경쟁사들이 중저가 시장에서 공세를 펼치고 있고, 특히 AI 스마트폰 시대에 발빠른 대응이 필요합니다.\n",
      "\n",
      "---\n",
      "\n",
      "### 📊 **종합 평가: 중장기 매수 유력, 단기 조정 가능성**\n",
      "| 항목 | 평가 |\n",
      "|------|------|\n",
      "| 기초 체력 | ⭐⭐⭐⭐⭐ |\n",
      "| 서비스 성장성 | ⭐⭐⭐⭐☆ |\n",
      "| 경기 민감도 | ⭐⭐☆☆☆ |\n",
      "| 정치 리스크 | ⭐⭐☆☆☆ |\n",
      "| 단기 수급 | ⭐⭐☆☆☆ |\n",
      "\n",
      "---\n",
      "\n",
      "### 📌 결론\n",
      "- **장기 투자자**라면 AAPL은 여전히 **강력한 매수 대상**입니다. 기술력, 브랜드, 생태계, 재무 구조 모두 세계 최고 수준입니다.\n",
      "- **단기 투자자**라면, 현재의 거시경제 리스크와 정치적 불확실성을 고려해 **타이밍 조정**이 필요할 수 있습니다.\n",
      "- 특히, 트럼프 정권 관련 뉴스나 경기 지표(소비자 신뢰지수, 중국 경기 등)를 주시하며 **점진적 분할 매수 전략**을 고려해볼 수 있습니다.\n",
      "\n",
      "---\n",
      "\n",
      "필요하다면, 최근 AAPL 관련 뉴스나 실적 요약, 기관 리포트 요점도 정리해드릴 수 있습니다.\n"
     ]
    }
   ],
   "source": [
    "import os\n",
    "from langchain_openai import ChatOpenAI\n",
    "from langchain.schema import SystemMessage, HumanMessage\n",
    "from utils.config_loader import load_config\n",
    "\n",
    "API_KEY = os.environ[\"QWEN3_FREE_API_KEY\"]\n",
    "\n",
    "llm_cfg = load_config()[\"llm\"]\n",
    "MODEL = llm_cfg['model']\n",
    "BASE_URL = llm_cfg['base_url']\n",
    "\n",
    "sys_pmt_cfg = load_config()[\"prompt\"]\n",
    "SYSTEM_PROMPT = sys_pmt_cfg['system']\n",
    "\n",
    "# OpenRouter API Key와 Base URL 설정\n",
    "llm = ChatOpenAI(\n",
    "    model=MODEL,\n",
    "    openai_api_key=API_KEY,  # OpenRouter 키 입력\n",
    "    openai_api_base=BASE_URL,\n",
    "    temperature=0.5,\n",
    "    top_p=0.5,\n",
    "    max_tokens=1024\n",
    ")\n",
    "\n",
    "# 대화 메시지 구성\n",
    "messages = [\n",
    "    SystemMessage(content=SYSTEM_PROMPT),\n",
    "    HumanMessage(content=\"AAPL은 매력적이다. 하지만 트럼프 정권에 들어서면서 향후 주가가 어찌될지 예측하기 어렵다. 오르는가? AAPL은 기초가 튼튼한 회사이며 워렌 버핏에게 자주 샤라웃 당했다. 하지만 전세계적으로 불경기가 지속된다면, 스마트폰의 판매량 자체는 줄어들 것이다. 당신의 생각은 어떤가?\")\n",
    "]\n",
    "\n",
    "# 질의 수행\n",
    "response = llm.invoke(messages)\n",
    "print(response.content)"
   ]
  },
  {
   "cell_type": "code",
   "execution_count": null,
   "metadata": {},
   "outputs": [],
   "source": []
  }
 ],
 "metadata": {
  "kernelspec": {
   "display_name": "Python 3.10.16",
   "language": "python",
   "name": "python3"
  },
  "language_info": {
   "codemirror_mode": {
    "name": "ipython",
    "version": 3
   },
   "file_extension": ".py",
   "mimetype": "text/x-python",
   "name": "python",
   "nbconvert_exporter": "python",
   "pygments_lexer": "ipython3",
   "version": "3.10.16"
  },
  "orig_nbformat": 4,
  "vscode": {
   "interpreter": {
    "hash": "d48ce223188b5334abd059921a586686ee99d0df7d7e32153fc2755f57cbdb9d"
   }
  }
 },
 "nbformat": 4,
 "nbformat_minor": 2
}

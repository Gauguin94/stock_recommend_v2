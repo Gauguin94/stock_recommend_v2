{
 "cells": [
  {
   "cell_type": "code",
   "execution_count": null,
   "metadata": {},
   "outputs": [],
   "source": [
    "import pandas as pd\n",
    "import os\n",
    "\n",
    "df = pd.read_csv('{}/data/output/fundamental.csv'.format(os.getcwd()))\n",
    "df"
   ]
  },
  {
   "cell_type": "code",
   "execution_count": null,
   "metadata": {},
   "outputs": [],
   "source": [
    "\n",
    "\n",
    "\n",
    "for elem in df.PER.tolist():\n",
    "    if elem == '-':\n",
    "        num_list.append('-')\n",
    "    else:\n",
    "        num_list.append(float(elem))"
   ]
  },
  {
   "cell_type": "code",
   "execution_count": null,
   "metadata": {},
   "outputs": [],
   "source": [
    "num_list"
   ]
  },
  {
   "cell_type": "code",
   "execution_count": null,
   "metadata": {},
   "outputs": [],
   "source": [
    "df.sort_values(by='sector').reset_index(drop=True)"
   ]
  },
  {
   "cell_type": "code",
   "execution_count": null,
   "metadata": {},
   "outputs": [],
   "source": [
    "pd.Series(ind_list).value_counts().index"
   ]
  },
  {
   "cell_type": "code",
   "execution_count": null,
   "metadata": {},
   "outputs": [],
   "source": [
    "pd.Series(sec_list).value_counts().index"
   ]
  },
  {
   "cell_type": "markdown",
   "metadata": {},
   "source": [
    "## 섹터별-산업별"
   ]
  },
  {
   "cell_type": "code",
   "execution_count": null,
   "metadata": {},
   "outputs": [],
   "source": []
  },
  {
   "cell_type": "code",
   "execution_count": null,
   "metadata": {},
   "outputs": [],
   "source": []
  },
  {
   "cell_type": "code",
   "execution_count": null,
   "metadata": {},
   "outputs": [],
   "source": []
  },
  {
   "cell_type": "code",
   "execution_count": null,
   "metadata": {},
   "outputs": [],
   "source": []
  },
  {
   "cell_type": "code",
   "execution_count": null,
   "metadata": {},
   "outputs": [],
   "source": [
    "# API_KEY = os.environ[\"QWEN3_FREE_API_KEY\"]\n",
    "API_KEY = os.environ[\"QWEN3_SK_KEY\"]\n",
    "\n",
    "llm_cfg = load_config()[\"llm\"]\n",
    "MODEL = llm_cfg['model']\n",
    "BASE_URL = llm_cfg['base_url']\n",
    "\n",
    "sys_pmt_cfg = load_config()[\"prompt\"]\n",
    "SYSTEM_PROMPT = sys_pmt_cfg['system']\n",
    "\n",
    "# OpenRouter API Key와 Base URL 설정\n",
    "llm = ChatOpenAI(\n",
    "    model=MODEL,\n",
    "    openai_api_key=API_KEY,  # OpenRouter 키 입력\n",
    "    openai_api_base=BASE_URL,\n",
    "    temperature=0.5,\n",
    "    top_p=0.5,\n",
    "    max_tokens=1024\n",
    ")\n",
    "\n",
    "# 대화 메시지 구성\n",
    "messages = [\n",
    "    SystemMessage(content=SYSTEM_PROMPT),\n",
    "    HumanMessage(content=\"AAPL은 매력적이다. 하지만 트럼프 정권에 들어서면서 향후 주가가 어찌될지 예측하기 어렵다. 오르는가? AAPL은 기초가 튼튼한 회사이며 워렌 버핏에게 자주 샤라웃 당했다. 하지만 전세계적으로 불경기가 지속된다면, 스마트폰의 판매량 자체는 줄어들 것이다. 당신의 생각은 어떤가?\")\n",
    "]\n",
    "\n",
    "# 질의 수행\n",
    "response = llm.invoke(messages)\n",
    "print(response.content)"
   ]
  },
  {
   "cell_type": "code",
   "execution_count": null,
   "metadata": {},
   "outputs": [],
   "source": [
    "!pip install beautifulsoup4"
   ]
  },
  {
   "cell_type": "code",
   "execution_count": null,
   "metadata": {},
   "outputs": [],
   "source": []
  }
 ],
 "metadata": {
  "kernelspec": {
   "display_name": "Python 3",
   "language": "python",
   "name": "python3"
  },
  "language_info": {
   "codemirror_mode": {
    "name": "ipython",
    "version": 3
   },
   "file_extension": ".py",
   "mimetype": "text/x-python",
   "name": "python",
   "nbconvert_exporter": "python",
   "pygments_lexer": "ipython3",
   "version": "3.11.9"
  },
  "orig_nbformat": 4
 },
 "nbformat": 4,
 "nbformat_minor": 2
}

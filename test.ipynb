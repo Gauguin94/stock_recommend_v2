{
 "cells": [
  {
   "cell_type": "code",
   "execution_count": null,
   "metadata": {},
   "outputs": [],
   "source": [
    "import pandas as pd\n",
    "import os\n",
    "\n",
    "df = pd.read_csv('{}/data/output/fundamental.csv'.format(os.getcwd()))\n",
    "df"
   ]
  },
  {
   "cell_type": "code",
   "execution_count": 1,
   "metadata": {},
   "outputs": [],
   "source": [
    "import yfinance as yf\n",
    "\n",
    "ticker = yf.Ticker(\"AAPL\")"
   ]
  },
  {
   "cell_type": "code",
   "execution_count": 2,
   "metadata": {},
   "outputs": [
    {
     "name": "stdout",
     "output_type": "stream",
     "text": [
      "lazy-loading dict with keys = ['currency', 'dayHigh', 'dayLow', 'exchange', 'fiftyDayAverage', 'lastPrice', 'lastVolume', 'marketCap', 'open', 'previousClose', 'quoteType', 'regularMarketPreviousClose', 'shares', 'tenDayAverageVolume', 'threeMonthAverageVolume', 'timezone', 'twoHundredDayAverage', 'yearChange', 'yearHigh', 'yearLow']\n"
     ]
    }
   ],
   "source": [
    "print(ticker.fast_info)  # 안전"
   ]
  },
  {
   "cell_type": "code",
   "execution_count": null,
   "metadata": {},
   "outputs": [],
   "source": [
    "\n",
    "\n",
    "\n",
    "for elem in df.PER.tolist():\n",
    "    if elem == '-':\n",
    "        num_list.append('-')\n",
    "    else:\n",
    "        num_list.append(float(elem))"
   ]
  },
  {
   "cell_type": "code",
   "execution_count": null,
   "metadata": {},
   "outputs": [],
   "source": [
    "num_list"
   ]
  },
  {
   "cell_type": "code",
   "execution_count": null,
   "metadata": {},
   "outputs": [],
   "source": [
    "df.sort_values(by='sector').reset_index(drop=True)"
   ]
  },
  {
   "cell_type": "code",
   "execution_count": null,
   "metadata": {},
   "outputs": [],
   "source": [
    "pd.Series(ind_list).value_counts().index"
   ]
  },
  {
   "cell_type": "code",
   "execution_count": null,
   "metadata": {},
   "outputs": [],
   "source": [
    "pd.Series(sec_list).value_counts().index"
   ]
  },
  {
   "cell_type": "markdown",
   "metadata": {},
   "source": [
    "## 섹터별-산업별"
   ]
  },
  {
   "cell_type": "code",
   "execution_count": null,
   "metadata": {},
   "outputs": [],
   "source": []
  },
  {
   "cell_type": "code",
   "execution_count": null,
   "metadata": {},
   "outputs": [],
   "source": []
  },
  {
   "cell_type": "code",
   "execution_count": null,
   "metadata": {},
   "outputs": [],
   "source": []
  },
  {
   "cell_type": "code",
   "execution_count": null,
   "metadata": {},
   "outputs": [],
   "source": []
  },
  {
   "cell_type": "code",
   "execution_count": null,
   "metadata": {},
   "outputs": [],
   "source": [
    "# API_KEY = os.environ[\"QWEN3_FREE_API_KEY\"]\n",
    "API_KEY = os.environ[\"QWEN3_SK_KEY\"]\n",
    "\n",
    "llm_cfg = load_config()[\"llm\"]\n",
    "MODEL = llm_cfg['model']\n",
    "BASE_URL = llm_cfg['base_url']\n",
    "\n",
    "sys_pmt_cfg = load_config()[\"prompt\"]\n",
    "SYSTEM_PROMPT = sys_pmt_cfg['system']\n",
    "\n",
    "# OpenRouter API Key와 Base URL 설정\n",
    "llm = ChatOpenAI(\n",
    "    model=MODEL,\n",
    "    openai_api_key=API_KEY,  # OpenRouter 키 입력\n",
    "    openai_api_base=BASE_URL,\n",
    "    temperature=0.5,\n",
    "    top_p=0.5,\n",
    "    max_tokens=1024\n",
    ")\n",
    "\n",
    "# 대화 메시지 구성\n",
    "messages = [\n",
    "    SystemMessage(content=SYSTEM_PROMPT),\n",
    "    HumanMessage(content=\"AAPL은 매력적이다. 하지만 트럼프 정권에 들어서면서 향후 주가가 어찌될지 예측하기 어렵다. 오르는가? AAPL은 기초가 튼튼한 회사이며 워렌 버핏에게 자주 샤라웃 당했다. 하지만 전세계적으로 불경기가 지속된다면, 스마트폰의 판매량 자체는 줄어들 것이다. 당신의 생각은 어떤가?\")\n",
    "]\n",
    "\n",
    "# 질의 수행\n",
    "response = llm.invoke(messages)\n",
    "print(response.content)"
   ]
  },
  {
   "cell_type": "code",
   "execution_count": null,
   "metadata": {},
   "outputs": [],
   "source": [
    "!pip install beautifulsoup4"
   ]
  },
  {
   "cell_type": "code",
   "execution_count": 1,
   "metadata": {},
   "outputs": [
    {
     "name": "stdout",
     "output_type": "stream",
     "text": [
      "Collecting yahooquery\n",
      "  Downloading yahooquery-2.4.1-py3-none-any.whl.metadata (4.8 kB)\n",
      "Requirement already satisfied: beautifulsoup4>=4.12.2 in c:\\users\\kyeongnam\\miniconda3\\envs\\ds\\lib\\site-packages (from yahooquery) (4.13.3)\n",
      "Collecting curl-cffi>=0.10.0 (from yahooquery)\n",
      "  Downloading curl_cffi-0.12.0-cp39-abi3-win_amd64.whl.metadata (15 kB)\n",
      "Requirement already satisfied: lxml>=4.9.3 in c:\\users\\kyeongnam\\miniconda3\\envs\\ds\\lib\\site-packages (from yahooquery) (5.3.2)\n",
      "Requirement already satisfied: pandas>=2.2.0 in c:\\users\\kyeongnam\\miniconda3\\envs\\ds\\lib\\site-packages (from yahooquery) (2.2.3)\n",
      "Collecting requests-futures>=1.0.1 (from yahooquery)\n",
      "  Downloading requests_futures-1.0.2-py2.py3-none-any.whl.metadata (12 kB)\n",
      "Requirement already satisfied: tqdm>=4.65.0 in c:\\users\\kyeongnam\\miniconda3\\envs\\ds\\lib\\site-packages (from yahooquery) (4.67.1)\n",
      "Requirement already satisfied: soupsieve>1.2 in c:\\users\\kyeongnam\\miniconda3\\envs\\ds\\lib\\site-packages (from beautifulsoup4>=4.12.2->yahooquery) (2.6)\n",
      "Requirement already satisfied: typing-extensions>=4.0.0 in c:\\users\\kyeongnam\\miniconda3\\envs\\ds\\lib\\site-packages (from beautifulsoup4>=4.12.2->yahooquery) (4.14.0)\n",
      "Requirement already satisfied: cffi>=1.12.0 in c:\\users\\kyeongnam\\miniconda3\\envs\\ds\\lib\\site-packages (from curl-cffi>=0.10.0->yahooquery) (1.17.1)\n",
      "Requirement already satisfied: certifi>=2024.2.2 in c:\\users\\kyeongnam\\miniconda3\\envs\\ds\\lib\\site-packages (from curl-cffi>=0.10.0->yahooquery) (2025.4.26)\n",
      "Requirement already satisfied: numpy>=1.22.4 in c:\\users\\kyeongnam\\miniconda3\\envs\\ds\\lib\\site-packages (from pandas>=2.2.0->yahooquery) (1.26.4)\n",
      "Requirement already satisfied: python-dateutil>=2.8.2 in c:\\users\\kyeongnam\\miniconda3\\envs\\ds\\lib\\site-packages (from pandas>=2.2.0->yahooquery) (2.9.0.post0)\n",
      "Requirement already satisfied: pytz>=2020.1 in c:\\users\\kyeongnam\\miniconda3\\envs\\ds\\lib\\site-packages (from pandas>=2.2.0->yahooquery) (2025.2)\n",
      "Requirement already satisfied: tzdata>=2022.7 in c:\\users\\kyeongnam\\miniconda3\\envs\\ds\\lib\\site-packages (from pandas>=2.2.0->yahooquery) (2025.2)\n",
      "Requirement already satisfied: requests>=1.2.0 in c:\\users\\kyeongnam\\miniconda3\\envs\\ds\\lib\\site-packages (from requests-futures>=1.0.1->yahooquery) (2.32.4)\n",
      "Requirement already satisfied: colorama in c:\\users\\kyeongnam\\miniconda3\\envs\\ds\\lib\\site-packages (from tqdm>=4.65.0->yahooquery) (0.4.6)\n",
      "Requirement already satisfied: pycparser in c:\\users\\kyeongnam\\miniconda3\\envs\\ds\\lib\\site-packages (from cffi>=1.12.0->curl-cffi>=0.10.0->yahooquery) (2.22)\n",
      "Requirement already satisfied: six>=1.5 in c:\\users\\kyeongnam\\miniconda3\\envs\\ds\\lib\\site-packages (from python-dateutil>=2.8.2->pandas>=2.2.0->yahooquery) (1.17.0)\n",
      "Requirement already satisfied: charset_normalizer<4,>=2 in c:\\users\\kyeongnam\\miniconda3\\envs\\ds\\lib\\site-packages (from requests>=1.2.0->requests-futures>=1.0.1->yahooquery) (3.4.2)\n",
      "Requirement already satisfied: idna<4,>=2.5 in c:\\users\\kyeongnam\\miniconda3\\envs\\ds\\lib\\site-packages (from requests>=1.2.0->requests-futures>=1.0.1->yahooquery) (3.10)\n",
      "Requirement already satisfied: urllib3<3,>=1.21.1 in c:\\users\\kyeongnam\\miniconda3\\envs\\ds\\lib\\site-packages (from requests>=1.2.0->requests-futures>=1.0.1->yahooquery) (2.4.0)\n",
      "Downloading yahooquery-2.4.1-py3-none-any.whl (50 kB)\n",
      "Downloading curl_cffi-0.12.0-cp39-abi3-win_amd64.whl (1.6 MB)\n",
      "   ---------------------------------------- 0.0/1.6 MB ? eta -:--:--\n",
      "   ------ --------------------------------- 0.3/1.6 MB ? eta -:--:--\n",
      "   ------------- -------------------------- 0.5/1.6 MB 1.2 MB/s eta 0:00:01\n",
      "   ------------------- -------------------- 0.8/1.6 MB 1.4 MB/s eta 0:00:01\n",
      "   -------------------------------- ------- 1.3/1.6 MB 1.6 MB/s eta 0:00:01\n",
      "   ---------------------------------------- 1.6/1.6 MB 1.6 MB/s eta 0:00:00\n",
      "Downloading requests_futures-1.0.2-py2.py3-none-any.whl (7.7 kB)\n",
      "Installing collected packages: requests-futures, curl-cffi, yahooquery\n",
      "Successfully installed curl-cffi-0.12.0 requests-futures-1.0.2 yahooquery-2.4.1\n"
     ]
    }
   ],
   "source": [
    "!pip install yahooquery"
   ]
  },
  {
   "cell_type": "code",
   "execution_count": null,
   "metadata": {},
   "outputs": [],
   "source": []
  }
 ],
 "metadata": {
  "kernelspec": {
   "display_name": "Python 3.10.16",
   "language": "python",
   "name": "python3"
  },
  "language_info": {
   "codemirror_mode": {
    "name": "ipython",
    "version": 3
   },
   "file_extension": ".py",
   "mimetype": "text/x-python",
   "name": "python",
   "nbconvert_exporter": "python",
   "pygments_lexer": "ipython3",
   "version": "3.10.16"
  },
  "orig_nbformat": 4,
  "vscode": {
   "interpreter": {
    "hash": "d48ce223188b5334abd059921a586686ee99d0df7d7e32153fc2755f57cbdb9d"
   }
  }
 },
 "nbformat": 4,
 "nbformat_minor": 2
}
